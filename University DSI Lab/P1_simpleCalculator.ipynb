{
 "cells": [
  {
   "cell_type": "markdown",
   "metadata": {},
   "source": [
    "# Simple Calculator"
   ]
  },
  {
   "cell_type": "code",
   "execution_count": 1,
   "metadata": {},
   "outputs": [
    {
     "name": "stdin",
     "output_type": "stream",
     "text": [
      "Enter the Input like 3+5 to calculate:  5*4\n"
     ]
    },
    {
     "name": "stdout",
     "output_type": "stream",
     "text": [
      "Result: 20\n"
     ]
    }
   ],
   "source": [
    "import re\n",
    "\n",
    "operators = ['\\+', '\\-', '\\*', '\\/']\n",
    "exp = input(\"Enter the Input like 3+5 to calculate: \")\n",
    "\n",
    "def calc(operator, a, b):\n",
    "    print(\"Result: \", end='')\n",
    "    if operator == '+':\n",
    "        print(a+b)\n",
    "    if operator == '-':\n",
    "        print(a - b)\n",
    "    if operator == '*':\n",
    "        print(a * b)\n",
    "    if operator == '/':\n",
    "        print(a / b)\n",
    "        \n",
    "for operator in operators:\n",
    "    if re.search(operator, exp):\n",
    "        values = exp.split(operator[1])\n",
    "        calc(operator[1], int(values[0]), int(values[1]))"
   ]
  }
 ],
 "metadata": {
  "kernelspec": {
   "display_name": "Python 3",
   "language": "python",
   "name": "python3"
  },
  "language_info": {
   "codemirror_mode": {
    "name": "ipython",
    "version": 3
   },
   "file_extension": ".py",
   "mimetype": "text/x-python",
   "name": "python",
   "nbconvert_exporter": "python",
   "pygments_lexer": "ipython3",
   "version": "3.7.3"
  }
 },
 "nbformat": 4,
 "nbformat_minor": 4
}
