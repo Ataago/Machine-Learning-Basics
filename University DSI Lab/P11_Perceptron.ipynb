{
 "cells": [
  {
   "cell_type": "markdown",
   "metadata": {},
   "source": [
    "# Perceptron"
   ]
  },
  {
   "cell_type": "code",
   "execution_count": 1,
   "metadata": {},
   "outputs": [],
   "source": [
    "import numpy as np"
   ]
  },
  {
   "cell_type": "code",
   "execution_count": 2,
   "metadata": {},
   "outputs": [],
   "source": [
    "def perceptron(w, b, x):\n",
    "    net = np.add(np.dot(x, w), b)\n",
    "    return np.round(1/(1+np.exp(-net)))"
   ]
  },
  {
   "cell_type": "code",
   "execution_count": 3,
   "metadata": {},
   "outputs": [],
   "source": [
    "# AND weights\n",
    "w_AND = [-0.1, 0.2, 0.2]\n",
    "\n",
    "# AND bais\n",
    "b_AND = -0.2\n",
    "\n",
    "# NAND weights\n",
    "w_NAND = [0.6, -0.8, -0.8]\n",
    "\n",
    "# NAND bais\n",
    "b_NAND = 0.3"
   ]
  },
  {
   "cell_type": "code",
   "execution_count": 4,
   "metadata": {},
   "outputs": [],
   "source": [
    "dataset = np.array([\n",
    "    [1,0,0],\n",
    "    [1,0,1],\n",
    "    [1,1,0],\n",
    "    [1,1,1]\n",
    "])"
   ]
  },
  {
   "cell_type": "code",
   "execution_count": 5,
   "metadata": {},
   "outputs": [
    {
     "name": "stdout",
     "output_type": "stream",
     "text": [
      "x1\tx2\tx3\tAND\n",
      "1\t0\t0\t0.0\n",
      "1\t0\t1\t0.0\n",
      "1\t1\t0\t0.0\n",
      "1\t1\t1\t1.0\n"
     ]
    }
   ],
   "source": [
    "output_AND = [perceptron(w_AND, b_AND, x) for x in dataset]\n",
    "\n",
    "print('x1\\tx2\\tx3\\tAND')\n",
    "for data, output in zip(dataset, output_AND):\n",
    "    print('{}\\t{}\\t{}\\t{}'.format(*data, output))"
   ]
  },
  {
   "cell_type": "code",
   "execution_count": 6,
   "metadata": {},
   "outputs": [
    {
     "name": "stdout",
     "output_type": "stream",
     "text": [
      "x1\tx2\tx3\tNAND\n",
      "1\t0\t0\t1.0\n",
      "1\t0\t1\t1.0\n",
      "1\t1\t0\t1.0\n",
      "1\t1\t1\t0.0\n"
     ]
    }
   ],
   "source": [
    "output_NAND = [perceptron(w_NAND, b_NAND, x) for x in dataset]\n",
    "\n",
    "print('x1\\tx2\\tx3\\tNAND')\n",
    "for data, output in zip(dataset, output_NAND):\n",
    "    print('{}\\t{}\\t{}\\t{}'.format(*data, output))"
   ]
  }
 ],
 "metadata": {
  "kernelspec": {
   "display_name": "Python 3",
   "language": "python",
   "name": "python3"
  },
  "language_info": {
   "codemirror_mode": {
    "name": "ipython",
    "version": 3
   },
   "file_extension": ".py",
   "mimetype": "text/x-python",
   "name": "python",
   "nbconvert_exporter": "python",
   "pygments_lexer": "ipython3",
   "version": "3.7.4"
  }
 },
 "nbformat": 4,
 "nbformat_minor": 4
}
